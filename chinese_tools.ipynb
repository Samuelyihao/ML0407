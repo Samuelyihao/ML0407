{
 "cells": [
  {
   "cell_type": "code",
   "execution_count": 1,
   "metadata": {},
   "outputs": [],
   "source": [
    "with open(\"test.txt\", \"r\", encoding=\"utf-8\") as f:\n",
    "    article = f.read()"
   ]
  },
  {
   "cell_type": "code",
   "execution_count": 2,
   "metadata": {},
   "outputs": [
    {
     "data": {
      "text/plain": [
       "'    支持四種分詞模式：\\n        精確模式，試圖將句子最精確地切開，適合文本分析；\\n        全模式，把句子中所有的可以成詞的詞語都掃描出來, 速度非常快，但是不能解決歧義；\\n        搜索引擎模式，在精確模式的基礎上，對長詞再次切分，提高召回率，適合用於搜索引擎分詞。\\n        paddle模式，利用PaddlePaddle深度學習框架，訓練序列標註（雙向GRU）網絡模型實現分詞。同時支持詞性標註。paddle模式使用需安裝paddlepaddle-tiny，pip install paddlepaddle-tiny==1.6.1。目前paddle模式支持jieba v0.40及以上版本。jieba v0.40以下版本，請升級jieba，pip install jieba --upgrade 。PaddlePaddle官網\\n    支持繁體分詞\\n    支持自定義詞典\\n    MIT 授權協議\\n'"
      ]
     },
     "execution_count": 2,
     "metadata": {},
     "output_type": "execute_result"
    }
   ],
   "source": [
    "# opencc-python-reimplemented\n",
    "from opencc import OpenCC\n",
    "cc = OpenCC('s2tw') # convert freom Simplified chinese to Traditional chinese\n",
    "# can also set conversion by claaing set_conversion\n",
    "# cc.set_conversion('s2tw')\n",
    "converted = cc.convert(article)\n",
    "converted"
   ]
  },
  {
   "cell_type": "code",
   "execution_count": 3,
   "metadata": {},
   "outputs": [],
   "source": [
    "# MAC\n",
    "# import ssl\n",
    "# ssl._create_default_https_context = ssl._create_unverified_context"
   ]
  },
  {
   "cell_type": "code",
   "execution_count": 4,
   "metadata": {},
   "outputs": [
    {
     "name": "stderr",
     "output_type": "stream",
     "text": [
      "Building prefix dict from the default dictionary ...\n",
      "Loading model from cache C:\\Users\\user\\AppData\\Local\\Temp\\jieba.cache\n",
      "Loading model cost 0.713 seconds.\n",
      "Prefix dict has been built successfully.\n"
     ]
    },
    {
     "data": {
      "text/plain": [
       "'        支持 四种 分 词模式 ： \\n                 精确 模式 ， 试图 将 句子 最 精确 地 切开 ， 适合 文本 分析 ； \\n                 全 模式 ， 把 句子 中 所有 的 可以 成词 的 词语 都 扫描 出来 ,   速度 非常 快 ， 但是 不能 解决 歧义 ； \\n                 搜索引擎 模式 ， 在 精确 模式 的 基础 上 ， 对长 词 再次 切分 ， 提高 召回 率 ， 适合 用于 搜索引擎 分词 。 \\n                 paddle 模式 ， 利用 PaddlePaddle 深度 学习 框架 ， 训练 序列 标注 （ 双向 GRU ） 网络 模型 实现 分词 。 同时 支持 词性 标注 。 paddle 模式 使用 需 安装 paddlepaddle - tiny ， pip   install   paddlepaddle - tiny = = 1.6 . 1 。 目前 paddle 模式 支持 jieba   v0.40 及 以上 版本 。 jieba   v0.40 以下 版本 ， 请 升级 jieba ， pip   install   jieba   -- upgrade   。 PaddlePaddle 官网 \\n         支持 繁体 分词 \\n         支持 自定义 词典 \\n         MIT   授权 协议 \\n'"
      ]
     },
     "execution_count": 4,
     "metadata": {},
     "output_type": "execute_result"
    }
   ],
   "source": [
    "import jieba\n",
    "\" \".join(jieba.cut(article))"
   ]
  },
  {
   "cell_type": "code",
   "execution_count": 5,
   "metadata": {},
   "outputs": [
    {
     "name": "stderr",
     "output_type": "stream",
     "text": [
      "Building prefix dict from C:\\Users\\user\\PycharmProjects\\MLdemo\\dict.txt.big ...\n",
      "Loading model from cache C:\\Users\\user\\AppData\\Local\\Temp\\jieba.ua78f95c58e6a9af139e0273d0dce26fa.cache\n",
      "Loading model cost 1.275 seconds.\n",
      "Prefix dict has been built successfully.\n"
     ]
    },
    {
     "data": {
      "text/plain": [
       "'（ 中央社 記者 黃 自強 新加坡 13 日電 ） 台灣 援贈 新加坡 口罩 ， 新加坡 總理 李顯龍 夫人 何晶 今天 修改 臉書 中 原本 的 謎樣 Errrr ... （ 呃 ... ） 內容 ， 何晶 希望 大家 彼此 相互 擁抱 ， 停止 在 網路 世界 廝殺 ， 戰勝 病毒 。 \\n \\n 何晶 在 臉書 表示 ， 非常感謝 所有 台灣 朋友 所 做 的 一切 ， 「 我 對此 永遠 感激 」 。 \\n \\n 何晶 指出 ， 我們 知道 全世界 都 是 一起 面對 這個 問題 ， 因此 非常感謝 所有 提供 協助 的 人 ， 雖然 有時 成功 ， 有時 遭遇 失敗 。 \\n \\n 她 認為 ， 不論 成功 與否 ， 這種 真誠 的 努力 與 想法 ， 將令 人 永遠 珍惜 。 \\n \\n 至於 錯誤 ？ 也 會 被 原諒 啦 ！ 何晶 仍 在 這段 文字 的 下方 ， 依然 留下 原本 遭 外界 討論 的 Errrr ... （ 呃 ... ） 內容 。 \\n \\n 何晶 表示 ， 大家 要 彼此 相互 擁抱 ， 應該 要 停止 在 網路 世界 相互 廝殺 。 「 我們 要 打敗 的 是 病毒 」 ， 而且 必須 不分彼此 、 不 分 國家 與 旗幟 。 \\n \\n 外交部 日前 宣布 啟動 第二 波 援助 需要 口罩 的 國家 ， 對象 包含 新 南向 政策 國家 ， 新加坡 也 在 名單 內 ， 但 何晶 11 日 在 臉書 轉發 相關 報導 ， 還 發文 「 Errrr ... （ 呃 ... ） 」 引起 熱議 。 \\n \\n 不少 網友 對 何晶 以 Errrr .... 表達 看法 感到 好奇 ， 不 了解 究竟 代表 什麼 意涵 。 這個 貼文 也 引發 不同 立場 網友 在 她 的 臉書 中 筆戰 。 新加坡 文字 工作者 沈宗 祐 說 ， 何晶 修改 臉書 留言 ， 也 助於 緩和 台灣 與 新加坡 網友 的 口水 論戰 ， 如同 何晶 所稱 大家 要 戰勝 的 是 病毒 ， 希望 兩國之間 人民 繼續 保持 友好關係 。 \\n \\n 台灣 外交部 昨天 也 表示 ， 宣布 外援 後 也 和 星國 相關 單位 進行 討論 ， 新加坡 初步 回應 正面 ， 兩 國 雙邊 政策 將以 政府 發言 為主 ， 不 受 任何 個人 發言 影響 。 （ 編輯 ： 高照 芬 ）'"
      ]
     },
     "execution_count": 5,
     "metadata": {},
     "output_type": "execute_result"
    }
   ],
   "source": [
    "import os\n",
    "import jieba\n",
    "from urllib.request import urlretrieve\n",
    "\n",
    "if not os.path.exists(\"dict.txt.big\"):\n",
    "    print(\"[1st time] 下載大辭典\")\n",
    "    url = \"https://raw.githubusercontent.com/fxsjy/jieba/master/extra_dict/dict.txt.big\"\n",
    "    urlretrieve(url, \"dict.txt.big\")\n",
    "with open(\"news.txt\", \"r\", encoding=\"utf-8\") as f:\n",
    "    news = f.read()\n",
    "    \n",
    "jieba.set_dictionary(\"dict.txt.big\")\n",
    "jieba.load_userdict(\"politics_dict.txt\")\n",
    "\" \".join(jieba.cut(news))"
   ]
  },
  {
   "cell_type": "code",
   "execution_count": 7,
   "metadata": {},
   "outputs": [
    {
     "data": {
      "text/plain": [
       "['何晶',\n",
       " '...',\n",
       " '臉書',\n",
       " '新加坡',\n",
       " '台灣',\n",
       " 'Errrr',\n",
       " '國家',\n",
       " '網友',\n",
       " '內容',\n",
       " '擁抱',\n",
       " '網路',\n",
       " '廝殺',\n",
       " '戰勝',\n",
       " '非常感謝',\n",
       " '永遠',\n",
       " '我們',\n",
       " '這個',\n",
       " '有時',\n",
       " '討論',\n",
       " '相關']"
      ]
     },
     "execution_count": 7,
     "metadata": {},
     "output_type": "execute_result"
    }
   ],
   "source": [
    "from jieba.analyse import extract_tags\n",
    "extract_tags(news)"
   ]
  },
  {
   "cell_type": "code",
   "execution_count": null,
   "metadata": {},
   "outputs": [],
   "source": []
  }
 ],
 "metadata": {
  "kernelspec": {
   "display_name": "Python 3",
   "language": "python",
   "name": "python3"
  },
  "language_info": {
   "codemirror_mode": {
    "name": "ipython",
    "version": 3
   },
   "file_extension": ".py",
   "mimetype": "text/x-python",
   "name": "python",
   "nbconvert_exporter": "python",
   "pygments_lexer": "ipython3",
   "version": "3.7.7"
  }
 },
 "nbformat": 4,
 "nbformat_minor": 4
}
