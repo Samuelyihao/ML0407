{
 "cells": [
  {
   "attachments": {},
   "cell_type": "markdown",
   "metadata": {
    "collapsed": true
   },
   "source": [
    "# 標題1\n",
    "\n",
    "## 標題2\n",
    "\n",
    "![圖: xxx](https://www.google.com/logos/doodles/2020/thank-you-doctors-nurses-and-medical-workers-6753651837108754.4-law.gif)\n",
    "\n",
    "[請點我](http://www.google.com)\n",
    "\n",
    "姓名|身高|體重\n",
    "---|---|---\n",
    "嘿嘿|150|150\n",
    "呵呵|160|140\n",
    "小叮噹|100|100\n",
    "\n",
    "\n",
    "[Latex Math](https://en.wikibooks.org/wiki/LaTeX/Mathematics)\n",
    "\n",
    "$ \\frac{1}{2} \\times \\pi R_1^2 $\n",
    "\n",
    "M = \\begin{bmatrix}\n",
    "       \\frac{5}{6} & \\frac{1}{6} & 0           \\\\[0.3em]\n",
    "       \\frac{5}{6} & 0           & \\frac{1}{6} \\\\[0.3em]\n",
    "       0           & \\frac{5}{6} & \\frac{1}{6}\n",
    "     \\end{bmatrix}"
   ]
  }
 ],
 "metadata": {
  "kernelspec": {
   "display_name": "Python 3",
   "language": "python",
   "name": "python3"
  },
  "language_info": {
   "codemirror_mode": {
    "name": "ipython",
    "version": 3
   },
   "file_extension": ".py",
   "mimetype": "text/x-python",
   "name": "python",
   "nbconvert_exporter": "python",
   "pygments_lexer": "ipython3",
   "version": "3.7.7"
  }
 },
 "nbformat": 4,
 "nbformat_minor": 1
}
