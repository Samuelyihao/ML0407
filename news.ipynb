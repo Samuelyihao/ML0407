{
 "cells": [
  {
   "cell_type": "code",
   "execution_count": 1,
   "metadata": {},
   "outputs": [],
   "source": [
    "import os\n",
    "import glob\n",
    "import pandas as pd\n",
    "\n",
    "#打包後，只需要丟入檔案路徑dn即可\n",
    "def get_data(dn):\n",
    "    data = {\n",
    "        \"news\":[],\n",
    "        \"ans\":[]    \n",
    "    }\n",
    "    # 用glob模組找尋檔案路徑\n",
    "    dirs = glob.glob(os.path.join(dn,\"*\"))\n",
    "    for d in dirs:\n",
    "        # 找到底下所有副檔名為txt檔\n",
    "        # 如果是mac的話，則用\".[tT][xX][tT]\"找尋\n",
    "        # 因為windows會不分大小寫自動搜尋，也不會去找隱藏檔\n",
    "        pat = os.path.join(d, \"*.txt\")\n",
    "        fs = glob.glob(pat)\n",
    "        for fp in fs:\n",
    "            with open(fp, \"r\", encoding=\"utf-8\") as f:\n",
    "                news = f.read()\n",
    "            ans = os.path.split(d)[-1] # 切割完後的路徑，取最後檔案名稱\n",
    "            data[\"news\"].append(news)\n",
    "            data[\"ans\"].append(ans)\n",
    "    df = pd.DataFrame(data, columns=[\"news\", \"ans\"])\n",
    "    return df"
   ]
  },
  {
   "cell_type": "code",
   "execution_count": 2,
   "metadata": {},
   "outputs": [],
   "source": [
    "# 丟入dn測試抓不抓得到資料\n",
    "train_df = get_data(\"chinese_news_trans\")\n",
    "test_df = get_data(\"chinese_news_test\")"
   ]
  },
  {
   "cell_type": "code",
   "execution_count": 3,
   "metadata": {},
   "outputs": [],
   "source": [
    "# 準備答案，轉化成數字編號\n",
    "# unique 排序\n",
    "# value_counts 算次數\n",
    "\n",
    "# kind = train_df[\"ans\"].value_counts()\n",
    "kind = train_df[\"ans\"].unique()\n",
    "\n",
    "# enumerate 加上編號\n",
    "trains = {k:i for i,k in enumerate(kind)}\n",
    "reverse_trains = {i:k for i,k in enumerate(kind)}"
   ]
  },
  {
   "cell_type": "code",
   "execution_count": 4,
   "metadata": {},
   "outputs": [],
   "source": [
    "y_train = train_df[\"ans\"].replace(trains)\n",
    "y_test = test_df[\"ans\"].replace(trains)"
   ]
  },
  {
   "cell_type": "code",
   "execution_count": 5,
   "metadata": {},
   "outputs": [
    {
     "data": {
      "text/plain": [
       "0      0\n",
       "1      0\n",
       "2      0\n",
       "3      0\n",
       "4      0\n",
       "      ..\n",
       "96     9\n",
       "97     9\n",
       "98     9\n",
       "99     9\n",
       "100    9\n",
       "Name: ans, Length: 101, dtype: int64"
      ]
     },
     "execution_count": 5,
     "metadata": {},
     "output_type": "execute_result"
    }
   ],
   "source": [
    "y_test"
   ]
  },
  {
   "cell_type": "code",
   "execution_count": 6,
   "metadata": {},
   "outputs": [],
   "source": [
    "import os\n",
    "from urllib.request import urlretrieve\n",
    "DICT_PATH = \"dict.txt.big\"\n",
    "if not os.path.exists(DICT_PATH):\n",
    "    print(\"字典不存在\")\n",
    "    url = \"https://github.com/fxsjy/jieba/raw/master/extra_dict/dict.txt.big\"\n",
    "    urlretrieve(url, DICT_PATH)"
   ]
  },
  {
   "cell_type": "code",
   "execution_count": 7,
   "metadata": {},
   "outputs": [
    {
     "name": "stderr",
     "output_type": "stream",
     "text": [
      "Building prefix dict from the default dictionary ...\n",
      "Loading model from cache C:\\Users\\user\\AppData\\Local\\Temp\\jieba.cache\n",
      "Loading model cost 0.693 seconds.\n",
      "Prefix dict has been built successfully.\n"
     ]
    }
   ],
   "source": [
    "import jieba\n",
    "# apple\n",
    "def newscut(news):\n",
    "    # 對每個斷詞都加上空格\n",
    "    s = \" \".join(jieba.cut(news))\n",
    "    return s.replace(\"\\r\", \"\").replace(\"\\n\", \"\")\n",
    "x_train_raw = train_df[\"news\"].apply(newscut)\n",
    "X_test_raw = test_df[\"news\"].apply(newscut)\n",
    "# print(train)"
   ]
  },
  {
   "cell_type": "code",
   "execution_count": 8,
   "metadata": {},
   "outputs": [],
   "source": [
    "# 計算次數\n",
    "from sklearn.feature_extraction.text import CountVectorizer\n",
    "vec = CountVectorizer()\n",
    "x_train = vec.fit_transform(x_train_raw)\n",
    "x_test = vec.transform(X_test_raw)"
   ]
  },
  {
   "cell_type": "code",
   "execution_count": 9,
   "metadata": {},
   "outputs": [
    {
     "data": {
      "text/plain": [
       "MultinomialNB(alpha=1.0, class_prior=None, fit_prior=True)"
      ]
     },
     "execution_count": 9,
     "metadata": {},
     "output_type": "execute_result"
    }
   ],
   "source": [
    "# 語言請用單純貝氏\n",
    "from sklearn.naive_bayes import MultinomialNB\n",
    "clf = MultinomialNB()\n",
    "clf.fit(x_train, y_train)"
   ]
  },
  {
   "cell_type": "code",
   "execution_count": 10,
   "metadata": {},
   "outputs": [
    {
     "data": {
      "text/plain": [
       "1.0"
      ]
     },
     "execution_count": 10,
     "metadata": {},
     "output_type": "execute_result"
    }
   ],
   "source": [
    "# 預測正確率\n",
    "from sklearn.metrics import accuracy_score\n",
    "pre = clf.predict(x_test)\n",
    "accuracy_score(pre, y_test)"
   ]
  },
  {
   "cell_type": "code",
   "execution_count": 11,
   "metadata": {
    "scrolled": true
   },
   "outputs": [
    {
     "data": {
      "text/html": [
       "<div>\n",
       "<style scoped>\n",
       "    .dataframe tbody tr th:only-of-type {\n",
       "        vertical-align: middle;\n",
       "    }\n",
       "\n",
       "    .dataframe tbody tr th {\n",
       "        vertical-align: top;\n",
       "    }\n",
       "\n",
       "    .dataframe thead th {\n",
       "        text-align: right;\n",
       "    }\n",
       "</style>\n",
       "<table border=\"1\" class=\"dataframe\">\n",
       "  <thead>\n",
       "    <tr style=\"text-align: right;\">\n",
       "      <th></th>\n",
       "      <th>交通(預測)</th>\n",
       "      <th>政治(預測)</th>\n",
       "      <th>教育(預測)</th>\n",
       "      <th>環境(預測)</th>\n",
       "      <th>經濟(預測)</th>\n",
       "      <th>藝術(預測)</th>\n",
       "      <th>計算機(預測)</th>\n",
       "      <th>軍事(預測)</th>\n",
       "      <th>醫藥(預測)</th>\n",
       "      <th>體育(預測)</th>\n",
       "    </tr>\n",
       "  </thead>\n",
       "  <tbody>\n",
       "    <tr>\n",
       "      <th>交通(正確)</th>\n",
       "      <td>10</td>\n",
       "      <td>0</td>\n",
       "      <td>0</td>\n",
       "      <td>0</td>\n",
       "      <td>0</td>\n",
       "      <td>0</td>\n",
       "      <td>0</td>\n",
       "      <td>0</td>\n",
       "      <td>0</td>\n",
       "      <td>0</td>\n",
       "    </tr>\n",
       "    <tr>\n",
       "      <th>政治(正確)</th>\n",
       "      <td>0</td>\n",
       "      <td>11</td>\n",
       "      <td>0</td>\n",
       "      <td>0</td>\n",
       "      <td>0</td>\n",
       "      <td>0</td>\n",
       "      <td>0</td>\n",
       "      <td>0</td>\n",
       "      <td>0</td>\n",
       "      <td>0</td>\n",
       "    </tr>\n",
       "    <tr>\n",
       "      <th>教育(正確)</th>\n",
       "      <td>0</td>\n",
       "      <td>0</td>\n",
       "      <td>10</td>\n",
       "      <td>0</td>\n",
       "      <td>0</td>\n",
       "      <td>0</td>\n",
       "      <td>0</td>\n",
       "      <td>0</td>\n",
       "      <td>0</td>\n",
       "      <td>0</td>\n",
       "    </tr>\n",
       "    <tr>\n",
       "      <th>環境(正確)</th>\n",
       "      <td>0</td>\n",
       "      <td>0</td>\n",
       "      <td>0</td>\n",
       "      <td>10</td>\n",
       "      <td>0</td>\n",
       "      <td>0</td>\n",
       "      <td>0</td>\n",
       "      <td>0</td>\n",
       "      <td>0</td>\n",
       "      <td>0</td>\n",
       "    </tr>\n",
       "    <tr>\n",
       "      <th>經濟(正確)</th>\n",
       "      <td>0</td>\n",
       "      <td>0</td>\n",
       "      <td>0</td>\n",
       "      <td>0</td>\n",
       "      <td>10</td>\n",
       "      <td>0</td>\n",
       "      <td>0</td>\n",
       "      <td>0</td>\n",
       "      <td>0</td>\n",
       "      <td>0</td>\n",
       "    </tr>\n",
       "    <tr>\n",
       "      <th>藝術(正確)</th>\n",
       "      <td>0</td>\n",
       "      <td>0</td>\n",
       "      <td>0</td>\n",
       "      <td>0</td>\n",
       "      <td>0</td>\n",
       "      <td>10</td>\n",
       "      <td>0</td>\n",
       "      <td>0</td>\n",
       "      <td>0</td>\n",
       "      <td>0</td>\n",
       "    </tr>\n",
       "    <tr>\n",
       "      <th>計算機(正確)</th>\n",
       "      <td>0</td>\n",
       "      <td>0</td>\n",
       "      <td>0</td>\n",
       "      <td>0</td>\n",
       "      <td>0</td>\n",
       "      <td>0</td>\n",
       "      <td>10</td>\n",
       "      <td>0</td>\n",
       "      <td>0</td>\n",
       "      <td>0</td>\n",
       "    </tr>\n",
       "    <tr>\n",
       "      <th>軍事(正確)</th>\n",
       "      <td>0</td>\n",
       "      <td>0</td>\n",
       "      <td>0</td>\n",
       "      <td>0</td>\n",
       "      <td>0</td>\n",
       "      <td>0</td>\n",
       "      <td>0</td>\n",
       "      <td>10</td>\n",
       "      <td>0</td>\n",
       "      <td>0</td>\n",
       "    </tr>\n",
       "    <tr>\n",
       "      <th>醫藥(正確)</th>\n",
       "      <td>0</td>\n",
       "      <td>0</td>\n",
       "      <td>0</td>\n",
       "      <td>0</td>\n",
       "      <td>0</td>\n",
       "      <td>0</td>\n",
       "      <td>0</td>\n",
       "      <td>0</td>\n",
       "      <td>10</td>\n",
       "      <td>0</td>\n",
       "    </tr>\n",
       "    <tr>\n",
       "      <th>體育(正確)</th>\n",
       "      <td>0</td>\n",
       "      <td>0</td>\n",
       "      <td>0</td>\n",
       "      <td>0</td>\n",
       "      <td>0</td>\n",
       "      <td>0</td>\n",
       "      <td>0</td>\n",
       "      <td>0</td>\n",
       "      <td>0</td>\n",
       "      <td>10</td>\n",
       "    </tr>\n",
       "  </tbody>\n",
       "</table>\n",
       "</div>"
      ],
      "text/plain": [
       "         交通(預測)  政治(預測)  教育(預測)  環境(預測)  經濟(預測)  藝術(預測)  計算機(預測)  軍事(預測)  \\\n",
       "交通(正確)       10       0       0       0       0       0        0       0   \n",
       "政治(正確)        0      11       0       0       0       0        0       0   \n",
       "教育(正確)        0       0      10       0       0       0        0       0   \n",
       "環境(正確)        0       0       0      10       0       0        0       0   \n",
       "經濟(正確)        0       0       0       0      10       0        0       0   \n",
       "藝術(正確)        0       0       0       0       0      10        0       0   \n",
       "計算機(正確)       0       0       0       0       0       0       10       0   \n",
       "軍事(正確)        0       0       0       0       0       0        0      10   \n",
       "醫藥(正確)        0       0       0       0       0       0        0       0   \n",
       "體育(正確)        0       0       0       0       0       0        0       0   \n",
       "\n",
       "         醫藥(預測)  體育(預測)  \n",
       "交通(正確)        0       0  \n",
       "政治(正確)        0       0  \n",
       "教育(正確)        0       0  \n",
       "環境(正確)        0       0  \n",
       "經濟(正確)        0       0  \n",
       "藝術(正確)        0       0  \n",
       "計算機(正確)       0       0  \n",
       "軍事(正確)        0       0  \n",
       "醫藥(正確)       10       0  \n",
       "體育(正確)        0      10  "
      ]
     },
     "execution_count": 11,
     "metadata": {},
     "output_type": "execute_result"
    }
   ],
   "source": [
    "from sklearn.metrics import  confusion_matrix\n",
    "mat = confusion_matrix(y_test, pre)\n",
    "col = [\"{}(預測)\".format(s) for s in kind]\n",
    "row = [\"{}(正確)\".format(s) for s in kind]\n",
    "pd.DataFrame(mat, columns=col, index=row)"
   ]
  },
  {
   "cell_type": "code",
   "execution_count": 22,
   "metadata": {},
   "outputs": [
    {
     "name": "stdout",
     "output_type": "stream",
     "text": [
      "請輸入新聞:烏克蘭車諾比核電廠附近的禁區於本月4日發生森林大火，至今已延燒11天，有知情人士透露，這場大火距核電廠與放射性廢料儲藏區僅剩2公里。對此，烏克蘭國家緊急服務處表示，雖然控制火勢的難度很大，但禁區內的關鍵地點目前還沒有受到威脅。不過有綠色和平組織成員指出，這場大火的嚴重性超過了官方估計。\n",
      "\n",
      "應該是: 軍事\n",
      "\n",
      "軍事 : 96.97 %\n",
      "經濟 : 1.8 %\n",
      "環境 : 1.22 %\n",
      "體育 : 0.01 %\n",
      "政治 : 0.0 %\n",
      "計算機 : 0.0 %\n",
      "交通 : 0.0 %\n",
      "藝術 : 0.0 %\n",
      "教育 : 0.0 %\n",
      "醫藥 : 0.0 %\n"
     ]
    }
   ],
   "source": [
    "n = input(\"請輸入新聞:\")\n",
    "test = vec.transform([newscut(n)])\n",
    "# print(test)\n",
    "pre = clf.predict(test)[0]\n",
    "# print(pre)\n",
    "ans = reverse_trains[pre]\n",
    "print(\"\")\n",
    "print(\"應該是:\", ans)\n",
    "print(\"\")\n",
    "proba = clf.predict_proba(test)[0]\n",
    "# print(proba)\n",
    "proba = list(enumerate(proba))\n",
    "for i,prob in sorted(proba, key=lambda x:x[1], reverse=True):\n",
    "    print(reverse_trains[i], \":\", round(prob*100, 2), \"%\")"
   ]
  },
  {
   "cell_type": "code",
   "execution_count": null,
   "metadata": {},
   "outputs": [],
   "source": [
    "list(zip([1,2,3],[4,5,3]))"
   ]
  },
  {
   "cell_type": "code",
   "execution_count": null,
   "metadata": {},
   "outputs": [],
   "source": [
    "sorted([(3,\"a\"),(1,\"b\"),(5,\"c\")])"
   ]
  },
  {
   "cell_type": "code",
   "execution_count": null,
   "metadata": {},
   "outputs": [],
   "source": []
  }
 ],
 "metadata": {
  "kernelspec": {
   "display_name": "Python 3",
   "language": "python",
   "name": "python3"
  },
  "language_info": {
   "codemirror_mode": {
    "name": "ipython",
    "version": 3
   },
   "file_extension": ".py",
   "mimetype": "text/x-python",
   "name": "python",
   "nbconvert_exporter": "python",
   "pygments_lexer": "ipython3",
   "version": "3.7.7"
  }
 },
 "nbformat": 4,
 "nbformat_minor": 4
}
